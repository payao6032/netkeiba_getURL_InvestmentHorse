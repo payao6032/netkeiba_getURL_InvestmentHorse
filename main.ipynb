{
 "cells": [
  {
   "cell_type": "markdown",
   "id": "jhdaxvqa5jn",
   "metadata": {},
   "source": [
    "# netkeiba URL取得\n",
    "\n",
    "募集馬一覧CSVを読み込み、netkeibaの血統ページURLを自動取得してCSV出力する"
   ]
  },
  {
   "cell_type": "code",
   "execution_count": 1,
   "id": "4b3gibv5ap6",
   "metadata": {},
   "outputs": [],
   "source": [
    "import pandas as pd\n",
    "from module.search import get_horse_url\n",
    "from module.utils import normalize_name\n",
    "import os\n",
    "from tqdm import tqdm\n",
    "import time"
   ]
  },
  {
   "cell_type": "markdown",
   "id": "yxeoebi95sh",
   "metadata": {},
   "source": [
    "## 1. CSV読み込み処理"
   ]
  },
  {
   "cell_type": "code",
   "execution_count": null,
   "id": "0c31kz52phik",
   "metadata": {},
   "outputs": [],
   "source": [
    "# 入力CSVファイルを読み込み\n",
    "input_file = 'target/target_list.csv'\n",
    "\n",
    "try:\n",
    "    df = pd.read_csv(input_file, encoding='utf-8')\n",
    "    print(f\"読み込み完了: {len(df)}頭の馬名\")\n",
    "    print(f\"列名: {df.columns.tolist()}\")\n",
    "    print(\"\\n最初の5頭:\")\n",
    "    print(df.head())\n",
    "except Exception as e:\n",
    "    print(f\"CSVファイル読み込みエラー: {e}\")\n",
    "    df = None"
   ]
  },
  {
   "cell_type": "markdown",
   "id": "412hloh7lcd",
   "metadata": {},
   "source": [
    "## 2. URL取得処理"
   ]
  },
  {
   "cell_type": "code",
   "execution_count": null,
   "id": "aa1sewq2pzl",
   "metadata": {},
   "outputs": [],
   "source": [
    "if df is not None:\n",
    "    # 結果を格納するリスト\n",
    "    results = []\n",
    "    \n",
    "    # 各馬名に対してURL取得\n",
    "    horse_column = df.columns[0]  # 最初の列を馬名列として使用\n",
    "    \n",
    "    print(f\"\\n{horse_column}列から馬名を取得してURL検索を開始...\")\n",
    "    \n",
    "    for index, row in tqdm(df.iterrows(), total=len(df), desc=\"URL取得中\"):\n",
    "        \n",
    "        horse_name = str(row[horse_column]).strip()\n",
    "        \n",
    "        if not horse_name or horse_name == 'nan':\n",
    "            continue\n",
    "            \n",
    "        # 馬名を正規化\n",
    "        normalized_name = normalize_name(horse_name)\n",
    "        try:\n",
    "            # URL取得\n",
    "            url = get_horse_url(normalized_name)\n",
    "            \n",
    "            # 結果をリストに追加\n",
    "            results.append({\n",
    "                '馬名': normalized_name,\n",
    "                'URL': url if url else 'URL取得失敗'\n",
    "            })\n",
    "            \n",
    "            print(f\"{index+1:3d}. {normalized_name:<30} → {'成功' if url else '失敗'}\")\n",
    "            \n",
    "        except Exception as e:\n",
    "            print(f\"エラー: {normalized_name} - {e}\")\n",
    "            results.append({\n",
    "                '馬名': normalized_name,\n",
    "                'URL': f'エラー: {e}'\n",
    "            })\n",
    "        \n",
    "        time.sleep(1)\n",
    "    \n",
    "    print(f\"\\nURL取得完了: {len(results)}件\")"
   ]
  },
  {
   "cell_type": "markdown",
   "id": "7lgc841yaa7",
   "metadata": {},
   "source": [
    "## 3. 結果確認"
   ]
  },
  {
   "cell_type": "code",
   "execution_count": null,
   "id": "gejgxavotb",
   "metadata": {},
   "outputs": [],
   "source": [
    "if results:\n",
    "    # 結果をDataFrameに変換\n",
    "    result_df = pd.DataFrame(results)\n",
    "    \n",
    "    # 統計情報\n",
    "    total_count = len(result_df)\n",
    "    success_count = len(result_df[result_df['URL'].str.startswith('https://')])\n",
    "    fail_count = total_count - success_count\n",
    "    \n",
    "    print(f\"=== 取得結果サマリー ===\")\n",
    "    print(f\"総数: {total_count}頭\")\n",
    "    print(f\"成功: {success_count}頭 ({success_count/total_count*100:.1f}%)\")\n",
    "    print(f\"失敗: {fail_count}頭 ({fail_count/total_count*100:.1f}%)\")\n",
    "    \n",
    "    print(\"\\n=== 最初の10件 ===\")\n",
    "    print(result_df.head(10))\n",
    "    \n",
    "    if fail_count > 0:\n",
    "        print(\"\\n=== 失敗した馬名 ===\")\n",
    "        failed_horses = result_df[~result_df['URL'].str.startswith('https://')]\n",
    "        print(failed_horses)"
   ]
  },
  {
   "cell_type": "markdown",
   "id": "04a1sa4meaob",
   "metadata": {},
   "source": [
    "## 4. CSV出力"
   ]
  },
  {
   "cell_type": "code",
   "execution_count": null,
   "id": "0cs4dowjuhmb",
   "metadata": {},
   "outputs": [],
   "source": [
    "if results:\n",
    "    # outputディレクトリが存在しない場合は作成\n",
    "    os.makedirs('output', exist_ok=True)\n",
    "    \n",
    "    # 結果をCSVに保存\n",
    "    output_file = 'output/horse_urls.csv'\n",
    "    result_df.to_csv(output_file, index=False, encoding='utf-8')\n",
    "    \n",
    "    print(f\"\\n結果を保存しました: {output_file}\")\n",
    "    print(f\"ファイルサイズ: {os.path.getsize(output_file)} bytes\")\n",
    "    \n",
    "    # 保存されたファイルの確認\n",
    "    saved_df = pd.read_csv(output_file)\n",
    "    print(f\"保存確認: {len(saved_df)}行のデータが正常に保存されました\")"
   ]
  }
 ],
 "metadata": {
  "kernelspec": {
   "display_name": "netkeiba_getURL_InvestmentHorse",
   "language": "python",
   "name": "python3"
  },
  "language_info": {
   "codemirror_mode": {
    "name": "ipython",
    "version": 3
   },
   "file_extension": ".py",
   "mimetype": "text/x-python",
   "name": "python",
   "nbconvert_exporter": "python",
   "pygments_lexer": "ipython3",
   "version": "3.12.11"
  }
 },
 "nbformat": 4,
 "nbformat_minor": 5
}
